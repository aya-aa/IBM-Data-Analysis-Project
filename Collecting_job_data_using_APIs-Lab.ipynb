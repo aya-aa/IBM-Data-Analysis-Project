{
 "cells": [
  {
   "cell_type": "markdown",
   "metadata": {},
   "source": [
    "# **Collecting Job Data Using APIs**\n"
   ]
  },
  {
   "cell_type": "markdown",
   "metadata": {},
   "source": [
    "## Objectives\n"
   ]
  },
  {
   "cell_type": "markdown",
   "metadata": {},
   "source": [
    "*   Collect job data from GitHub Jobs API\n",
    "*   Store the collected data into an excel spreadsheet.\n"
   ]
  },
  {
   "cell_type": "markdown",
   "metadata": {},
   "source": [
    "## Dataset Used\n",
    "\n",
    "\n",
    "The dataset used in this lab comes from the following source: https://www.kaggle.com/promptcloud/jobs-on-naukricom under the under a **Public Domain license**.\n",
    "\n",
    "\n",
    "The original dataset is a csv. We have converted the csv to json.\n",
    "\n"
   ]
  },
  {
   "cell_type": "markdown",
   "metadata": {},
   "source": [
    "## Lab: Collect Jobs Data using GitHub Jobs API\n"
   ]
  },
  {
   "cell_type": "markdown",
   "metadata": {},
   "source": [
    "### Objective: Determine the number of jobs currently open for various technologies  and for various locations\n"
   ]
  },
  {
   "cell_type": "markdown",
   "metadata": {},
   "source": []
  },
  {
   "cell_type": "markdown",
   "metadata": {},
   "source": [
    "Collect the number of job postings for the following locations using the API:\n",
    "\n",
    "* Los Angeles\n",
    "* New York\n",
    "* San Francisco\n",
    "* Washington DC\n",
    "* Seattle\n",
    "* Austin\n",
    "* Detroit\n"
   ]
  },
  {
   "cell_type": "code",
   "execution_count": 12,
   "metadata": {
    "tags": []
   },
   "outputs": [],
   "source": [
    "#Import required libraries\n",
    "import pandas as pd\n",
    "import json\n"
   ]
  },
  {
   "cell_type": "code",
   "execution_count": 46,
   "metadata": {
    "tags": []
   },
   "outputs": [],
   "source": [
    "import requests\n",
    "\n",
    "api_url = \"http://127.0.0.1:5000/data\"  # Ensure this is the correct URL\n",
    "\n",
    "def get_number_of_jobs_T(technology):\n",
    "    number_of_jobs = 0\n",
    "    payload = {'Key Skills': technology}\n",
    "    \n",
    "    r = requests.get(api_url, params=payload)\n",
    "\n",
    "    if r.ok:\n",
    "        try:\n",
    "            data = r.json()\n",
    "            number_of_jobs=len(data)\n",
    "        except ValueError:\n",
    "            print(\"Response is not valid JSON.\")\n",
    "    \n",
    "\n",
    "    return technology, number_of_jobs\n"
   ]
  },
  {
   "cell_type": "markdown",
   "metadata": {},
   "source": [
    "Calling the function for Python and checking if it works.\n"
   ]
  },
  {
   "cell_type": "code",
   "execution_count": 48,
   "metadata": {
    "tags": []
   },
   "outputs": [
    {
     "name": "stdout",
     "output_type": "stream",
     "text": [
      "1173\n"
     ]
    },
    {
     "data": {
      "text/plain": [
       "('Python', 1173)"
      ]
     },
     "execution_count": 48,
     "metadata": {},
     "output_type": "execute_result"
    }
   ],
   "source": [
    "get_number_of_jobs_T(\"Python\")"
   ]
  },
  {
   "cell_type": "code",
   "execution_count": 64,
   "metadata": {
    "tags": []
   },
   "outputs": [],
   "source": [
    " def get_number_of_jobs_L(location):\n",
    "    number_of_jobs=0\n",
    "    payload = {'Location': location}\n",
    "    r = requests.get(api_url, params=payload)\n",
    "    if r.ok:\n",
    "        data=r.json()\n",
    "        number_of_jobs=len(data)\n",
    "        \n",
    "    \n",
    "    #your coe goes here\n",
    "    return location,number_of_jobs"
   ]
  },
  {
   "cell_type": "code",
   "execution_count": 66,
   "metadata": {
    "tags": []
   },
   "outputs": [
    {
     "data": {
      "text/plain": [
       "('Los Angeles', 640)"
      ]
     },
     "execution_count": 66,
     "metadata": {},
     "output_type": "execute_result"
    }
   ],
   "source": [
    "#your code goes here\n",
    "get_number_of_jobs_L(\"Los Angeles\")\n",
    "\n"
   ]
  },
  {
   "cell_type": "code",
   "execution_count": 70,
   "metadata": {
    "tags": []
   },
   "outputs": [
    {
     "name": "stdout",
     "output_type": "stream",
     "text": [
      "Collecting openpyxl\n",
      "  Downloading openpyxl-3.1.3-py2.py3-none-any.whl (251 kB)\n",
      "\u001b[2K     \u001b[90m━━━━━━━━━━━━━━━━━━━━━━━━━━━━━━━━━━━━━━\u001b[0m \u001b[32m251.3/251.3 kB\u001b[0m \u001b[31m21.4 MB/s\u001b[0m eta \u001b[36m0:00:00\u001b[0m\n",
      "\u001b[?25hCollecting et-xmlfile (from openpyxl)\n",
      "  Downloading et_xmlfile-1.1.0-py3-none-any.whl (4.7 kB)\n",
      "Installing collected packages: et-xmlfile, openpyxl\n",
      "Successfully installed et-xmlfile-1.1.0 openpyxl-3.1.3\n"
     ]
    }
   ],
   "source": [
    "#your code goes here\n",
    "\n",
    "technologies=['Python','SQL', 'Power BI','Django','JavaScript']\n",
    "!pip install openpyxl\n",
    "\n"
   ]
  },
  {
   "cell_type": "markdown",
   "metadata": {},
   "source": [
    "Import libraries required to create excel spreadsheet\n"
   ]
  },
  {
   "cell_type": "code",
   "execution_count": null,
   "metadata": {
    "tags": []
   },
   "outputs": [],
   "source": [
    "from openpyxl import Workbook\n"
   ]
  },
  {
   "cell_type": "code",
   "execution_count": null,
   "metadata": {
    "tags": []
   },
   "outputs": [],
   "source": [
    "wb= Workbook()\n",
    "ws=wb.active"
   ]
  },
  {
   "cell_type": "code",
   "execution_count": null,
   "metadata": {
    "tags": []
   },
   "outputs": [
    {
     "name": "stdout",
     "output_type": "stream",
     "text": [
      "1173\n",
      "Python 1173\n",
      "SQL 0\n",
      "Power BI 0\n",
      "Django 0\n",
      "355\n",
      "JavaScript 355\n",
      "       Python  1173\n",
      "0         SQL     0\n",
      "1    Power BI     0\n",
      "2      Django     0\n",
      "3  JavaScript   355\n"
     ]
    }
   ],
   "source": [
    "technologies=['Python','SQL', 'Power BI','Django','JavaScript']\n",
    "wb= Workbook()\n",
    "ws=wb.active\n",
    "for technology in technologies:\n",
    "    technology_name, number_of_jobs = get_number_of_jobs_T(technology)\n",
    "    print(technology_name, number_of_jobs)\n",
    "    ws.append([technology_name, number_of_jobs])\n",
    "\n",
    "wb.save(\"github-job-postings.xlsx\")\n",
    "import pandas as pd\n",
    "\n",
    "df = pd.read_excel('github-job-postings.xlsx')\n",
    "\n",
    "print(df)\n",
    "    "
   ]
  },
  {
   "cell_type": "code",
   "execution_count": 83,
   "metadata": {
    "tags": []
   },
   "outputs": [],
   "source": [
    "#your code goes here\n",
    "wb.save(\"github-job-postings.xlsx\")"
   ]
  },
  {
   "cell_type": "markdown",
   "metadata": {},
   "source": [
    "Collecting the number of job postings for the following languages using the API:\n",
    "\n",
    "*   C\n",
    "*   C#\n",
    "*   C++\n",
    "*   Java\n",
    "*   JavaScript\n",
    "*   Python\n",
    "*   Scala\n",
    "*   Oracle\n",
    "*   SQL Server\n",
    "*   MySQL Server\n",
    "*   PostgreSQL\n",
    "*   MongoDB\n"
   ]
  },
  {
   "cell_type": "code",
   "execution_count": null,
   "metadata": {
    "tags": []
   },
   "outputs": [
    {
     "name": "stdout",
     "output_type": "stream",
     "text": [
      "13498\n",
      "C 13498\n",
      "333\n",
      "C# 333\n",
      "305\n",
      "C++ 305\n",
      "2609\n",
      "Java 2609\n",
      "355\n",
      "JavaScript 355\n",
      "1173\n",
      "Python 1173\n",
      "33\n",
      "Scala 33\n",
      "784\n",
      "Oracle 784\n",
      "250\n",
      "SQL Server 250\n",
      "0\n",
      "MySQL Server 0\n",
      "10\n",
      "PostgreSQL 10\n",
      "174\n",
      "MongoDB 174\n",
      "               C  13498\n",
      "0             C#    333\n",
      "1            C++    305\n",
      "2           Java   2609\n",
      "3     JavaScript    355\n",
      "4         Python   1173\n",
      "5          Scala     33\n",
      "6         Oracle    784\n",
      "7     SQL Server    250\n",
      "8   MySQL Server      0\n",
      "9     PostgreSQL     10\n",
      "10       MongoDB    174\n"
     ]
    }
   ],
   "source": [
    "technologies = [\n",
    "    \"C\", \n",
    "    \"C#\", \n",
    "    \"C++\", \n",
    "    \"Java\", \n",
    "    \"JavaScript\", \n",
    "    \"Python\", \n",
    "    \"Scala\", \n",
    "    \"Oracle\", \n",
    "    \"SQL Server\", \n",
    "    \"MySQL Server\", \n",
    "    \"PostgreSQL\", \n",
    "    \"MongoDB\"\n",
    "]\n",
    "wb= Workbook()\n",
    "ws=wb.active\n",
    "for technology in technologies:\n",
    "    technology_name, number_of_jobs = get_number_of_jobs_T(technology)\n",
    "    print(technology_name, number_of_jobs)\n",
    "    ws.append([technology_name, number_of_jobs])\n",
    "\n",
    "wb.save(\"github-job-postings2.xlsx\")\n",
    "import pandas as pd\n",
    "\n",
    "df = pd.read_excel('github-job-postings.xlsx')\n",
    "\n",
    "print(df)"
   ]
  },
  {
   "cell_type": "code",
   "execution_count": 93,
   "metadata": {
    "tags": []
   },
   "outputs": [
    {
     "name": "stdout",
     "output_type": "stream",
     "text": [
      "Reinitialized existing Git repository in /resources/DA0321EN/labs/module 1/Accessing Data Using APIs/.git/\n"
     ]
    }
   ],
   "source": [
    "!git init"
   ]
  },
  {
   "cell_type": "markdown",
   "metadata": {},
   "source": [
    "## Authors\n"
   ]
  },
  {
   "cell_type": "markdown",
   "metadata": {},
   "source": [
    "Ayushi Jain\n"
   ]
  },
  {
   "cell_type": "markdown",
   "metadata": {},
   "source": [
    "### Other Contributors\n"
   ]
  },
  {
   "cell_type": "markdown",
   "metadata": {},
   "source": [
    "Rav Ahuja\n",
    "\n",
    "Lakshmi Holla\n",
    "\n",
    "Malika\n"
   ]
  },
  {
   "cell_type": "markdown",
   "metadata": {},
   "source": [
    "Copyright © 2020 IBM Corporation. This notebook and its source code are released under the terms of the [MIT License](https://cognitiveclass.ai/mit-license?utm_medium=Exinfluencer\\&utm_source=Exinfluencer\\&utm_content=000026UJ\\&utm_term=10006555\\&utm_id=NA-SkillsNetwork-Channel-SkillsNetworkCoursesIBMDA0321ENSkillsNetwork21426264-2021-01-01\\&cm_mmc=Email_Newsletter-\\_-Developer_Ed%2BTech-\\_-WW_WW-\\_-SkillsNetwork-Courses-IBM-DA0321EN-SkillsNetwork-21426264\\&cm_mmca1=000026UJ\\&cm_mmca2=10006555\\&cm_mmca3=M12345678\\&cvosrc=email.Newsletter.M12345678\\&cvo_campaign=000026UJ).\n"
   ]
  },
  {
   "cell_type": "markdown",
   "metadata": {},
   "source": [
    "<!--## Change Log\n"
   ]
  },
  {
   "cell_type": "markdown",
   "metadata": {},
   "source": [
    "<!--| Date (YYYY-MM-DD) | Version | Changed By        | Change Description                 |\n",
    "| ----------------- | ------- | ----------------- | ---------------------------------- | \n",
    "| 2022-01-19        | 0.3     | Lakshmi Holla        | Added changes in the markdown      |\n",
    "| 2021-06-25        | 0.2     | Malika            | Updated GitHub job json link       |\n",
    "| 2020-10-17        | 0.1     | Ramesh Sannareddy | Created initial version of the lab |--!>\n"
   ]
  }
 ],
 "metadata": {
  "kernelspec": {
   "display_name": "Python",
   "language": "python",
   "name": "conda-env-python-py"
  },
  "language_info": {
   "codemirror_mode": {
    "name": "ipython",
    "version": 3
   },
   "file_extension": ".py",
   "mimetype": "text/x-python",
   "name": "python",
   "nbconvert_exporter": "python",
   "pygments_lexer": "ipython3",
   "version": "3.7.12"
  },
  "prev_pub_hash": "c4d9a957e70e09027735f73df3308c8386dea312a4960cb2534d8e6ade9a49cc"
 },
 "nbformat": 4,
 "nbformat_minor": 4
}
